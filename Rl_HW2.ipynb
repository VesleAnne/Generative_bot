{
  "nbformat": 4,
  "nbformat_minor": 0,
  "metadata": {
    "colab": {
      "provenance": [],
      "gpuType": "T4",
      "include_colab_link": true
    },
    "kernelspec": {
      "name": "python3",
      "display_name": "Python 3"
    },
    "language_info": {
      "name": "python"
    },
    "accelerator": "GPU"
  },
  "cells": [
    {
      "cell_type": "markdown",
      "metadata": {
        "id": "view-in-github",
        "colab_type": "text"
      },
      "source": [
        "<a href=\"https://colab.research.google.com/github/VesleAnne/Generative_bot/blob/main/Rl_HW2.ipynb\" target=\"_parent\"><img src=\"https://colab.research.google.com/assets/colab-badge.svg\" alt=\"Open In Colab\"/></a>"
      ]
    },
    {
      "cell_type": "code",
      "execution_count": 1,
      "metadata": {
        "id": "StgnJ542alTf",
        "colab": {
          "base_uri": "https://localhost:8080/"
        },
        "outputId": "6391691c-4fff-44ab-d89b-b366a1bcc293"
      },
      "outputs": [
        {
          "output_type": "stream",
          "name": "stdout",
          "text": [
            "\u001b[2K     \u001b[90m━━━━━━━━━━━━━━━━━━━━━━━━━━━━━━━━━━━━━━━━\u001b[0m \u001b[32m953.9/953.9 kB\u001b[0m \u001b[31m8.5 MB/s\u001b[0m eta \u001b[36m0:00:00\u001b[0m\n",
            "\u001b[2K     \u001b[90m━━━━━━━━━━━━━━━━━━━━━━━━━━━━━━━━━━━━━━━━\u001b[0m \u001b[32m434.7/434.7 kB\u001b[0m \u001b[31m13.2 MB/s\u001b[0m eta \u001b[36m0:00:00\u001b[0m\n",
            "\u001b[?25h  Installing build dependencies ... \u001b[?25l\u001b[?25hdone\n",
            "  Getting requirements to build wheel ... \u001b[?25l\u001b[?25hdone\n",
            "  Preparing metadata (pyproject.toml) ... \u001b[?25l\u001b[?25hdone\n",
            "\u001b[2K     \u001b[90m━━━━━━━━━━━━━━━━━━━━━━━━━━━━━━━━━━━━━━━━\u001b[0m \u001b[32m1.7/1.7 MB\u001b[0m \u001b[31m12.2 MB/s\u001b[0m eta \u001b[36m0:00:00\u001b[0m\n",
            "\u001b[?25h  Building wheel for AutoROM.accept-rom-license (pyproject.toml) ... \u001b[?25l\u001b[?25hdone\n",
            "\u001b[2K     \u001b[90m━━━━━━━━━━━━━━━━━━━━━━━━━━━━━━━━━━━━━━━━\u001b[0m \u001b[32m67.5/67.5 kB\u001b[0m \u001b[31m2.9 MB/s\u001b[0m eta \u001b[36m0:00:00\u001b[0m\n",
            "\u001b[?25h"
          ]
        }
      ],
      "source": [
        "try:\n",
        "    import google.colab\n",
        "    COLAB = True\n",
        "except ModuleNotFoundError:\n",
        "    COLAB = False\n",
        "    pass\n",
        "\n",
        "if COLAB:\n",
        "    !pip -q install \"gymnasium[classic-control, atari, accept-rom-license]\"\n",
        "    !pip -q install piglet\n",
        "    !pip -q install imageio_ffmpeg\n",
        "    !pip -q install moviepy==1.0.3"
      ]
    },
    {
      "cell_type": "code",
      "source": [
        "import numpy as np\n",
        "import matplotlib.pyplot as plt\n",
        "%matplotlib inline\n",
        "import gymnasium as gym\n",
        "from gymnasium.wrappers.record_video import RecordVideo"
      ],
      "metadata": {
        "id": "LAR3Som_assC"
      },
      "execution_count": 2,
      "outputs": []
    },
    {
      "cell_type": "code",
      "source": [
        "import glob\n",
        "import io\n",
        "import base64\n",
        "from IPython import display as ipythondisplay\n",
        "from IPython.display import HTML\n",
        "import matplotlib.pyplot as plt\n",
        "%matplotlib inline"
      ],
      "metadata": {
        "id": "hYJIOYRZasmL",
        "colab": {
          "base_uri": "https://localhost:8080/"
        },
        "outputId": "a5b59c1e-66f1-4573-f459-2ee3005037a6"
      },
      "execution_count": 3,
      "outputs": [
        {
          "output_type": "stream",
          "name": "stderr",
          "text": [
            "/usr/local/lib/python3.10/dist-packages/ipykernel/ipkernel.py:283: DeprecationWarning: `should_run_async` will not call `transform_cell` automatically in the future. Please pass the result to `transformed_cell` argument and any exception that happen during thetransform in `preprocessing_exc_tuple` in IPython 7.17 and above.\n",
            "  and should_run_async(code)\n"
          ]
        }
      ]
    },
    {
      "cell_type": "code",
      "source": [
        "import torch.nn as nn\n",
        "import torch.nn.functional as F\n",
        "import torch"
      ],
      "metadata": {
        "id": "bMitfYWUr6Wz"
      },
      "execution_count": 4,
      "outputs": []
    },
    {
      "cell_type": "code",
      "source": [
        "import os\n",
        "import random\n",
        "import math\n",
        "from collections import deque, namedtuple\n",
        "from itertools import count\n",
        "\n",
        "import gym\n",
        "import numpy as np\n",
        "import torch\n",
        "import torch.nn as nn\n",
        "import torch.optim as optim\n",
        "import torch.nn.functional as F\n",
        "from torchvision.transforms.functional import to_tensor\n",
        "from tqdm import tqdm"
      ],
      "metadata": {
        "colab": {
          "base_uri": "https://localhost:8080/"
        },
        "id": "IOw6dJ-PkatE",
        "outputId": "d0181054-50a2-4714-bbf0-95efa0a4f25d"
      },
      "execution_count": 5,
      "outputs": [
        {
          "output_type": "stream",
          "name": "stderr",
          "text": [
            "/usr/local/lib/python3.10/dist-packages/ipykernel/ipkernel.py:283: DeprecationWarning: `should_run_async` will not call `transform_cell` automatically in the future. Please pass the result to `transformed_cell` argument and any exception that happen during thetransform in `preprocessing_exc_tuple` in IPython 7.17 and above.\n",
            "  and should_run_async(code)\n"
          ]
        }
      ]
    },
    {
      "cell_type": "code",
      "source": [
        "# Define the DQN neural network model\n",
        "class DQN(nn.Module):\n",
        "    def __init__(self, in_channels, n_actions):\n",
        "        super().__init__()\n",
        "        self.conv1 = nn.Conv2d(in_channels, 32, kernel_size=8, stride=4)\n",
        "        self.conv2 = nn.Conv2d(32, 64, kernel_size=4, stride=2)\n",
        "        self.conv3 = nn.Conv2d(64, 64, kernel_size=3, stride=1)\n",
        "        self.fc1 = nn.Linear(64 * 7 * 7, 512)\n",
        "        self.fc2 = nn.Linear(512, n_actions)\n",
        "\n",
        "    def forward(self, x):\n",
        "        x = F.relu(self.conv1(x))\n",
        "        x = F.relu(self.conv2(x))\n",
        "        x = F.relu(self.conv3(x))\n",
        "        x = torch.flatten(x, 1)\n",
        "        x = F.relu(self.fc1(x))\n",
        "        return self.fc2(x)"
      ],
      "metadata": {
        "colab": {
          "base_uri": "https://localhost:8080/"
        },
        "id": "G_7GsIWNkapd",
        "outputId": "4102d562-e9ba-4ea4-a64f-ea517572ddde"
      },
      "execution_count": 6,
      "outputs": [
        {
          "output_type": "stream",
          "name": "stderr",
          "text": [
            "/usr/local/lib/python3.10/dist-packages/ipykernel/ipkernel.py:283: DeprecationWarning: `should_run_async` will not call `transform_cell` automatically in the future. Please pass the result to `transformed_cell` argument and any exception that happen during thetransform in `preprocessing_exc_tuple` in IPython 7.17 and above.\n",
            "  and should_run_async(code)\n"
          ]
        }
      ]
    },
    {
      "cell_type": "code",
      "source": [
        "# Define the replay memory\n",
        "Transition = namedtuple('Transition', ('state', 'action', 'next_state', 'reward', 'done'))\n",
        "\n",
        "class ReplayMemory:\n",
        "    def __init__(self, capacity):\n",
        "        self.memory = deque([], maxlen=capacity)\n",
        "\n",
        "    def push(self, *args):\n",
        "        \"\"\"Save a transition\"\"\"\n",
        "        self.memory.append(Transition(*args))\n",
        "\n",
        "    def sample(self, batch_size):\n",
        "        return random.sample(self.memory, batch_size)\n",
        "\n",
        "    def __len__(self):\n",
        "        return len(self.memory)"
      ],
      "metadata": {
        "id": "T9FqtDuZlQEH"
      },
      "execution_count": 7,
      "outputs": []
    },
    {
      "cell_type": "code",
      "source": [
        "# Initialize parameters\n",
        "class Params:\n",
        "    env_name_pong = \"PongNoFrameskip-v4\"\n",
        "    env_name_space_invaders = \"SpaceInvadersNoFrameskip-v4\"\n",
        "    model = \"dqn\"\n",
        "    gpu = \"cuda\"\n",
        "    lr = 2.5e-4\n",
        "    epoch = 10001\n",
        "    batch_size = 32\n",
        "    eval_cycle = 500\n",
        "    ddqn = False\n",
        "\n",
        "args = Params()"
      ],
      "metadata": {
        "id": "ymNCYMuplbe8"
      },
      "execution_count": 8,
      "outputs": []
    },
    {
      "cell_type": "code",
      "source": [
        "# Set hyperparameters\n",
        "GAMMA = 0.99\n",
        "EPS_START = 1\n",
        "EPS_END = 0.05\n",
        "EPS_DECAY = 500000\n",
        "WARMUP = 1000\n",
        "\n",
        "steps_done = 0\n",
        "eps_threshold = EPS_START"
      ],
      "metadata": {
        "id": "ZhxFtvhtlblL"
      },
      "execution_count": 9,
      "outputs": []
    },
    {
      "cell_type": "code",
      "source": [
        "# Epsilon-greedy action selection\n",
        "def select_action(state):\n",
        "    global eps_threshold, steps_done\n",
        "    sample = random.random()\n",
        "    eps_threshold = EPS_END + (EPS_START - EPS_END) * math.exp(-1. * steps_done / EPS_DECAY)\n",
        "    steps_done += 1\n",
        "    if sample > eps_threshold:\n",
        "        with torch.no_grad():\n",
        "            return policy_net(state).max(1)[1].view(1, 1)\n",
        "    else:\n",
        "        return torch.tensor([[env.action_space.sample()]], device=args.gpu)"
      ],
      "metadata": {
        "id": "xsejBQ3tlQAp"
      },
      "execution_count": 10,
      "outputs": []
    },
    {
      "cell_type": "code",
      "source": [
        "# Initialize environment\n",
        "env_pong = gym.make(args.env_name_pong)\n",
        "env_space_invaders = gym.make(args.env_name_space_invaders)"
      ],
      "metadata": {
        "colab": {
          "base_uri": "https://localhost:8080/"
        },
        "id": "AzjNqpcKlm5H",
        "outputId": "276d065c-8e13-43f7-e020-9791b23135cf"
      },
      "execution_count": 11,
      "outputs": [
        {
          "output_type": "stream",
          "name": "stderr",
          "text": [
            "/usr/local/lib/python3.10/dist-packages/gym/core.py:317: DeprecationWarning: \u001b[33mWARN: Initializing wrapper in old step API which returns one bool instead of two. It is recommended to set `new_step_api=True` to use new step API. This will be the default behaviour in future.\u001b[0m\n",
            "  deprecation(\n",
            "/usr/local/lib/python3.10/dist-packages/gym/wrappers/step_api_compatibility.py:39: DeprecationWarning: \u001b[33mWARN: Initializing environment in old step API which returns one bool instead of two. It is recommended to set `new_step_api=True` to use new step API. This will be the default behaviour in future.\u001b[0m\n",
            "  deprecation(\n"
          ]
        }
      ]
    },
    {
      "cell_type": "code",
      "source": [
        "# Initialize networks\n",
        "n_action_pong = env_pong.action_space.n\n",
        "n_action_space_invaders = env_space_invaders.action_space.n\n",
        "\n",
        "policy_net_pong = DQN(in_channels=4, n_actions=n_action_pong).to(args.gpu)\n",
        "policy_net_space_invaders = DQN(in_channels=4, n_actions=n_action_space_invaders).to(args.gpu)\n",
        "\n",
        "target_net_pong = DQN(in_channels=4, n_actions=n_action_pong).to(args.gpu)\n",
        "target_net_space_invaders = DQN(in_channels=4, n_actions=n_action_space_invaders).to(args.gpu)\n",
        "\n",
        "target_net_pong.load_state_dict(policy_net_pong.state_dict())\n",
        "target_net_pong.eval()\n",
        "\n",
        "target_net_space_invaders.load_state_dict(policy_net_space_invaders.state_dict())\n",
        "target_net_space_invaders.eval()"
      ],
      "metadata": {
        "colab": {
          "base_uri": "https://localhost:8080/"
        },
        "id": "kbidaMmvlm2W",
        "outputId": "2bd625ce-8594-496c-b72d-a1a1b4e06914"
      },
      "execution_count": 12,
      "outputs": [
        {
          "output_type": "execute_result",
          "data": {
            "text/plain": [
              "DQN(\n",
              "  (conv1): Conv2d(4, 32, kernel_size=(8, 8), stride=(4, 4))\n",
              "  (conv2): Conv2d(32, 64, kernel_size=(4, 4), stride=(2, 2))\n",
              "  (conv3): Conv2d(64, 64, kernel_size=(3, 3), stride=(1, 1))\n",
              "  (fc1): Linear(in_features=3136, out_features=512, bias=True)\n",
              "  (fc2): Linear(in_features=512, out_features=6, bias=True)\n",
              ")"
            ]
          },
          "metadata": {},
          "execution_count": 12
        }
      ]
    },
    {
      "cell_type": "code",
      "source": [
        "# Initialize replay memory\n",
        "memory_pong = ReplayMemory(50000)\n",
        "memory_space_invaders = ReplayMemory(50000)"
      ],
      "metadata": {
        "id": "r4F1dloBlmzG"
      },
      "execution_count": 13,
      "outputs": []
    },
    {
      "cell_type": "code",
      "source": [
        "# Initialize optimizer\n",
        "optimizer_pong = optim.AdamW(policy_net_pong.parameters(), lr=args.lr, amsgrad=True)\n",
        "optimizer_space_invaders = optim.AdamW(policy_net_space_invaders.parameters(), lr=args.lr, amsgrad=True)"
      ],
      "metadata": {
        "id": "zpt6lRbJlmwa"
      },
      "execution_count": 14,
      "outputs": []
    },
    {
      "cell_type": "code",
      "source": [
        "!pip install keyboard -q"
      ],
      "metadata": {
        "colab": {
          "base_uri": "https://localhost:8080/"
        },
        "id": "pMI5Rt65n4ZQ",
        "outputId": "0fe425e0-b367-4221-eab4-50040784ec64"
      },
      "execution_count": 15,
      "outputs": [
        {
          "output_type": "stream",
          "name": "stdout",
          "text": [
            "\u001b[?25l     \u001b[90m━━━━━━━━━━━━━━━━━━━━━━━━━━━━━━━━━━━━━━━━\u001b[0m \u001b[32m0.0/58.1 kB\u001b[0m \u001b[31m?\u001b[0m eta \u001b[36m-:--:--\u001b[0m\r\u001b[2K     \u001b[90m━━━━━━━━━━━━━━━━━━━━━━━━━━━━━━━━━━━━━━━━\u001b[0m \u001b[32m58.1/58.1 kB\u001b[0m \u001b[31m2.3 MB/s\u001b[0m eta \u001b[36m0:00:00\u001b[0m\n",
            "\u001b[?25h"
          ]
        }
      ]
    },
    {
      "cell_type": "code",
      "source": [
        "import keyboard\n",
        "from itertools import count\n",
        "import numpy as np\n",
        "import numpy as np\n",
        "\n",
        "# Warm-up phase\n",
        "print(\"Warming up...\")\n",
        "warmupstep = 0\n",
        "for epoch in range(args.epoch):\n",
        "    obs_pong = env_pong.reset()\n",
        "    obs_pong = np.array(obs_pong[0])  # Extract the first frame\n",
        "    obs_pong = torch.FloatTensor(obs_pong).to(args.gpu)\n",
        "    obs_pong = torch.stack((obs_pong, obs_pong, obs_pong, obs_pong)).unsqueeze(0)\n",
        "\n",
        "    obs_space_invaders, _ = env_space_invaders.reset()\n",
        "    obs_space_invaders = torch.FloatTensor(obs_space_invaders).to(args.gpu)\n",
        "    obs_space_invaders = torch.stack((obs_space_invaders, obs_space_invaders, obs_space_invaders, obs_space_invaders)).unsqueeze(0)\n",
        "\n",
        "    for step in count():\n",
        "     #   if keyboard.is_pressed('q'):  # Check if 'q' is pressed\n",
        "     #       print(\"Training interrupted.\")\n",
        "     #       break\n",
        "\n",
        "        warmupstep += 1\n",
        "\n",
        "        action_pong = torch.tensor([[env_pong.action_space.sample()]]).to(args.gpu)\n",
        "        #next_obs_pong, reward_pong, terminated_pong, truncated_pong, _ = env_pong.step(action_pong.item())\n",
        "        #done_pong = terminated_pong or truncated_pong\n",
        "\n",
        "        # Adjust the unpacking to handle environments that return only four values\n",
        "        next_obs_pong, reward_pong, terminated_pong, _ = env_pong.step(action_pong.item())\n",
        "        done_pong = terminated_pong\n",
        "\n",
        "\n",
        "        reward_pong = torch.tensor([reward_pong], device=args.gpu)\n",
        "        done_pong = torch.tensor([done_pong], device=args.gpu)\n",
        "        next_obs_pong = torch.FloatTensor(next_obs_pong).to(args.gpu)\n",
        "        next_obs_pong = torch.stack((next_obs_pong, obs_pong[0][0], obs_pong[0][1], obs_pong[0][2])).unsqueeze(0)\n",
        "\n",
        "\n",
        "        action_space_invaders = torch.tensor([[env_space_invaders.action_space.sample()]]).to(args.gpu)\n",
        "        #next_obs_space_invaders, reward_space_invaders, terminated_space_invaders, truncated_space_invaders, _ = env_space_invaders.step(action_space_invaders.item())\n",
        "        #done_space_invaders = terminated_space_invaders or truncated_space_invaders\n",
        "        # Adjust the unpacking to handle environments that return only four values\n",
        "        next_obs_space_invaders, reward_space_invaders, terminated_space_invaders, _ = env_space_invaders.step(action_space_invaders.item())\n",
        "        done_space_invaders = terminated_space_invaders\n",
        "\n",
        "        reward_space_invaders = torch.tensor([reward_space_invaders], device=args.gpu)\n",
        "        done_space_invaders = torch.tensor([done_space_invaders], device=args.gpu)\n",
        "        next_obs_space_invaders = torch.FloatTensor(next_obs_space_invaders).to(args.gpu)\n",
        "        next_obs_space_invaders = torch.stack((next_obs_space_invaders, obs_space_invaders[0][0], obs_space_invaders[0][1], obs_space_invaders[0][2])).unsqueeze(0)\n",
        "\n",
        "        memory_pong.push(obs_pong, action_pong, next_obs_pong, reward_pong, done_pong)\n",
        "        memory_space_invaders.push(obs_space_invaders, action_space_invaders, next_obs_space_invaders, reward_space_invaders, done_space_invaders)\n"
      ],
      "metadata": {
        "colab": {
          "base_uri": "https://localhost:8080/",
          "height": 547
        },
        "id": "dVNThXgulmtp",
        "outputId": "09668a4a-0544-4062-820d-6577652edbb6"
      },
      "execution_count": 16,
      "outputs": [
        {
          "output_type": "stream",
          "name": "stdout",
          "text": [
            "Warming up...\n"
          ]
        },
        {
          "output_type": "stream",
          "name": "stderr",
          "text": [
            "/usr/local/lib/python3.10/dist-packages/gym/utils/passive_env_checker.py:190: UserWarning: \u001b[33mWARN: Future gym versions will require that `Env.reset` can be passed `return_info` to return information from the environment resetting.\u001b[0m\n",
            "  logger.warn(\n",
            "/usr/local/lib/python3.10/dist-packages/gym/utils/passive_env_checker.py:137: UserWarning: \u001b[33mWARN: The obs returned by the `reset()` method was expecting a numpy array, actual type: <class 'tuple'>\u001b[0m\n",
            "  logger.warn(\n",
            "/usr/local/lib/python3.10/dist-packages/gym/spaces/box.py:226: UserWarning: \u001b[33mWARN: Casting input x to numpy array.\u001b[0m\n",
            "  logger.warn(\"Casting input x to numpy array.\")\n",
            "/usr/local/lib/python3.10/dist-packages/gym/utils/passive_env_checker.py:167: UserWarning: \u001b[33mWARN: The obs returned by the `reset()` method is not within the observation space with exception: setting an array element with a sequence. The requested array has an inhomogeneous shape after 1 dimensions. The detected shape was (2,) + inhomogeneous part.\u001b[0m\n",
            "  logger.warn(f\"{pre} is not within the observation space with exception: {e}\")\n",
            "/usr/local/lib/python3.10/dist-packages/gym/utils/passive_env_checker.py:241: DeprecationWarning: `np.bool8` is a deprecated alias for `np.bool_`.  (Deprecated NumPy 1.24)\n",
            "  if not isinstance(terminated, (bool, np.bool8)):\n"
          ]
        },
        {
          "output_type": "error",
          "ename": "OutOfMemoryError",
          "evalue": "CUDA out of memory. Tried to allocate 20.00 MiB. GPU 0 has a total capacity of 14.75 GiB of which 1.06 MiB is free. Process 3350 has 14.74 GiB memory in use. Of the allocated memory 14.64 GiB is allocated by PyTorch, and 130.00 KiB is reserved by PyTorch but unallocated. If reserved but unallocated memory is large try setting PYTORCH_CUDA_ALLOC_CONF=expandable_segments:True to avoid fragmentation.  See documentation for Memory Management  (https://pytorch.org/docs/stable/notes/cuda.html#environment-variables)",
          "traceback": [
            "\u001b[0;31m---------------------------------------------------------------------------\u001b[0m",
            "\u001b[0;31mOutOfMemoryError\u001b[0m                          Traceback (most recent call last)",
            "\u001b[0;32m<ipython-input-16-8d5a1e4e828e>\u001b[0m in \u001b[0;36m<cell line: 9>\u001b[0;34m()\u001b[0m\n\u001b[1;32m     49\u001b[0m         \u001b[0mdone_space_invaders\u001b[0m \u001b[0;34m=\u001b[0m \u001b[0mtorch\u001b[0m\u001b[0;34m.\u001b[0m\u001b[0mtensor\u001b[0m\u001b[0;34m(\u001b[0m\u001b[0;34m[\u001b[0m\u001b[0mdone_space_invaders\u001b[0m\u001b[0;34m]\u001b[0m\u001b[0;34m,\u001b[0m \u001b[0mdevice\u001b[0m\u001b[0;34m=\u001b[0m\u001b[0margs\u001b[0m\u001b[0;34m.\u001b[0m\u001b[0mgpu\u001b[0m\u001b[0;34m)\u001b[0m\u001b[0;34m\u001b[0m\u001b[0;34m\u001b[0m\u001b[0m\n\u001b[1;32m     50\u001b[0m         \u001b[0mnext_obs_space_invaders\u001b[0m \u001b[0;34m=\u001b[0m \u001b[0mtorch\u001b[0m\u001b[0;34m.\u001b[0m\u001b[0mFloatTensor\u001b[0m\u001b[0;34m(\u001b[0m\u001b[0mnext_obs_space_invaders\u001b[0m\u001b[0;34m)\u001b[0m\u001b[0;34m.\u001b[0m\u001b[0mto\u001b[0m\u001b[0;34m(\u001b[0m\u001b[0margs\u001b[0m\u001b[0;34m.\u001b[0m\u001b[0mgpu\u001b[0m\u001b[0;34m)\u001b[0m\u001b[0;34m\u001b[0m\u001b[0;34m\u001b[0m\u001b[0m\n\u001b[0;32m---> 51\u001b[0;31m         \u001b[0mnext_obs_space_invaders\u001b[0m \u001b[0;34m=\u001b[0m \u001b[0mtorch\u001b[0m\u001b[0;34m.\u001b[0m\u001b[0mstack\u001b[0m\u001b[0;34m(\u001b[0m\u001b[0;34m(\u001b[0m\u001b[0mnext_obs_space_invaders\u001b[0m\u001b[0;34m,\u001b[0m \u001b[0mobs_space_invaders\u001b[0m\u001b[0;34m[\u001b[0m\u001b[0;36m0\u001b[0m\u001b[0;34m]\u001b[0m\u001b[0;34m[\u001b[0m\u001b[0;36m0\u001b[0m\u001b[0;34m]\u001b[0m\u001b[0;34m,\u001b[0m \u001b[0mobs_space_invaders\u001b[0m\u001b[0;34m[\u001b[0m\u001b[0;36m0\u001b[0m\u001b[0;34m]\u001b[0m\u001b[0;34m[\u001b[0m\u001b[0;36m1\u001b[0m\u001b[0;34m]\u001b[0m\u001b[0;34m,\u001b[0m \u001b[0mobs_space_invaders\u001b[0m\u001b[0;34m[\u001b[0m\u001b[0;36m0\u001b[0m\u001b[0;34m]\u001b[0m\u001b[0;34m[\u001b[0m\u001b[0;36m2\u001b[0m\u001b[0;34m]\u001b[0m\u001b[0;34m)\u001b[0m\u001b[0;34m)\u001b[0m\u001b[0;34m.\u001b[0m\u001b[0munsqueeze\u001b[0m\u001b[0;34m(\u001b[0m\u001b[0;36m0\u001b[0m\u001b[0;34m)\u001b[0m\u001b[0;34m\u001b[0m\u001b[0;34m\u001b[0m\u001b[0m\n\u001b[0m\u001b[1;32m     52\u001b[0m \u001b[0;34m\u001b[0m\u001b[0m\n\u001b[1;32m     53\u001b[0m         \u001b[0mmemory_pong\u001b[0m\u001b[0;34m.\u001b[0m\u001b[0mpush\u001b[0m\u001b[0;34m(\u001b[0m\u001b[0mobs_pong\u001b[0m\u001b[0;34m,\u001b[0m \u001b[0maction_pong\u001b[0m\u001b[0;34m,\u001b[0m \u001b[0mnext_obs_pong\u001b[0m\u001b[0;34m,\u001b[0m \u001b[0mreward_pong\u001b[0m\u001b[0;34m,\u001b[0m \u001b[0mdone_pong\u001b[0m\u001b[0;34m)\u001b[0m\u001b[0;34m\u001b[0m\u001b[0;34m\u001b[0m\u001b[0m\n",
            "\u001b[0;31mOutOfMemoryError\u001b[0m: CUDA out of memory. Tried to allocate 20.00 MiB. GPU 0 has a total capacity of 14.75 GiB of which 1.06 MiB is free. Process 3350 has 14.74 GiB memory in use. Of the allocated memory 14.64 GiB is allocated by PyTorch, and 130.00 KiB is reserved by PyTorch but unallocated. If reserved but unallocated memory is large try setting PYTORCH_CUDA_ALLOC_CONF=expandable_segments:True to avoid fragmentation.  See documentation for Memory Management  (https://pytorch.org/docs/stable/notes/cuda.html#environment-variables)"
          ]
        }
      ]
    },
    {
      "cell_type": "code",
      "source": [
        "env_space_invaders.reset()"
      ],
      "metadata": {
        "id": "H-BCsnZhG0EC"
      },
      "execution_count": null,
      "outputs": []
    },
    {
      "cell_type": "code",
      "source": [],
      "metadata": {
        "id": "4zn2pCp1k9VV"
      },
      "execution_count": null,
      "outputs": []
    }
  ]
}